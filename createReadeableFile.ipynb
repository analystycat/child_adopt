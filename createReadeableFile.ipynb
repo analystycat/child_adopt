{
 "cells": [
  {
   "cell_type": "code",
   "execution_count": 14,
   "metadata": {},
   "outputs": [],
   "source": [
    "import requests\n",
    "from bs4 import BeautifulSoup"
   ]
  },
  {
   "cell_type": "code",
   "execution_count": 15,
   "metadata": {},
   "outputs": [],
   "source": [
    "with open('all_children.json', 'r', encoding='utf-8') as file:\n",
    "    data = json.load(file)\n"
   ]
  },
  {
   "cell_type": "code",
   "execution_count": 46,
   "metadata": {},
   "outputs": [
    {
     "name": "stdout",
     "output_type": "stream",
     "text": [
      "Заголовок сторінки: Діти\n",
      "Валентин 16\n",
      "Заголовок сторінки: Діти\n",
      "Ірина 15\n",
      "Заголовок сторінки: Діти\n",
      "Артем 17\n",
      "Заголовок сторінки: Діти\n",
      "Захар 15\n"
     ]
    }
   ],
   "source": [
    "def getChildInfo(number):\n",
    "    # URL сторінки\n",
    "    url = f\"https://www.msp.gov.ua/children/child.php?n={number}\"\n",
    "\n",
    "    # Виконання HTTP-запиту\n",
    "    response = requests.get(url)\n",
    "\n",
    "    # Перевірка статусу відповіді\n",
    "    if response.status_code == 200:\n",
    "        # Створення об'єкта BeautifulSoup\n",
    "        soup = BeautifulSoup(response.content, 'html.parser')\n",
    "        \n",
    "        # Приклад отримання заголовка сторінки\n",
    "        title = soup.find('h1').text\n",
    "        print(\"Заголовок сторінки:\", title)\n",
    "        \n",
    "        # Приклад отримання таблиці (якщо є)\n",
    "        name_age = soup.find(class_='passport__title-name').text\n",
    "        name = name_age.split(',')[0]\n",
    "        age = (name_age.split(' ')[1])\n",
    "        print(name, age)\n",
    "    \n",
    "    else:\n",
    "        print(f\"Не вдалося отримати сторінку, статус-код: {response.status_code}\")\n",
    "\n",
    "#перевірка функціоналу\n",
    "for i in range(1,5):\n",
    "    getChildInfo(data[i])"
   ]
  },
  {
   "cell_type": "code",
   "execution_count": null,
   "metadata": {},
   "outputs": [],
   "source": []
  },
  {
   "cell_type": "code",
   "execution_count": null,
   "metadata": {},
   "outputs": [],
   "source": []
  }
 ],
 "metadata": {
  "kernelspec": {
   "display_name": "Python 3 (ipykernel)",
   "language": "python",
   "name": "python3"
  },
  "language_info": {
   "codemirror_mode": {
    "name": "ipython",
    "version": 3
   },
   "file_extension": ".py",
   "mimetype": "text/x-python",
   "name": "python",
   "nbconvert_exporter": "python",
   "pygments_lexer": "ipython3",
   "version": "3.12.8"
  }
 },
 "nbformat": 4,
 "nbformat_minor": 2
}
