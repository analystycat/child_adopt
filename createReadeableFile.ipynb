{
 "cells": [
  {
   "cell_type": "code",
   "execution_count": 5,
   "metadata": {},
   "outputs": [],
   "source": [
    "import requests\n",
    "from bs4 import BeautifulSoup\n",
    "import json"
   ]
  },
  {
   "cell_type": "code",
   "execution_count": 6,
   "metadata": {},
   "outputs": [],
   "source": [
    "with open('all_children.json', 'r', encoding='utf-8') as file:\n",
    "    data = json.load(file)\n"
   ]
  },
  {
   "cell_type": "code",
   "execution_count": null,
   "metadata": {},
   "outputs": [
    {
     "name": "stdout",
     "output_type": "stream",
     "text": [
      "<a href=\"/children/child.php?n=270775\">\n",
      "<div class=\"img\" style=\"background-image: url('../files/children/23_children18.01.2025_0.zip/38653187.jpeg')\"></div>\n",
      "<div class=\"name\">Владислав</div>\n",
      "<div class=\"age\">10 років</div>\n",
      "</a>\n"
     ]
    }
   ],
   "source": [
    "def getChildInfo(number):\n",
    "    # URL сторінки\n",
    "    url = f\"https://www.msp.gov.ua/children/child.php?n={number}\"\n",
    "\n",
    "    # Виконання HTTP-запиту\n",
    "    response = requests.get(url)\n",
    "\n",
    "    # Перевірка статусу відповіді\n",
    "    if response.status_code == 200:\n",
    "        # get object soup\n",
    "        soup = BeautifulSoup(response.content, 'html.parser')\n",
    "        \n",
    "        name_age = soup.find(class_='passport__title-name').text #get name & age\n",
    "        name = name_age.split(',')[0] #get name\n",
    "        age = (name_age.split(' ')[1]) #get age\n",
    "        child_id = soup.find(class_='passport__title-number').text.split('№')[1] #get id\n",
    "\n",
    "        # get block passport__content with information with child\n",
    "        passport_content = soup.find('div', class_='row passport__content')\n",
    "        gender_element = passport_content.find('span', class_='passport__content-title', string=\"Стать:\")\n",
    "        if gender_element:\n",
    "            gender = gender_element.find_next('span', class_='passport__content-inner').text.strip()\n",
    "        else:\n",
    "            print(\"Стать не знайдено.\")\n",
    "        \n",
    "        # get region\n",
    "        region_element = passport_content.find('span', class_='passport__content-title', string=\"Область:\")\n",
    "        if region_element:\n",
    "            region = region_element.find_next('span', class_='passport__content-inner').text.strip()\n",
    "        else:\n",
    "            print(\"Область не знайдено.\")\n",
    "        \n",
    "        #get disablement status\n",
    "        disablement_element = passport_content.find('span', class_='passport__content-title', string=\"Наявність інвалідності:\")\n",
    "        if disablement_element:\n",
    "            disablement = disablement_element.find_next('span', class_='passport__content-inner').text.strip()\n",
    "            if disablement == 'є':\n",
    "                disablement = True\n",
    "            else:\n",
    "                disablement = False\n",
    "\n",
    "        else:\n",
    "            print(\"Статус інвалідності не знайдено\")\n",
    "\n",
    "        #get form of adoption\n",
    "        adoptionForm_element = passport_content.find('span', class_='passport__content-title', string=\"Можлива форма влаштування:\")\n",
    "        if adoptionForm_element:\n",
    "            adoptionForm = adoptionForm_element.find_next('span', class_='passport__content-inner').text.strip()\n",
    "        else:\n",
    "            print(\"Форому всиновлення не знайдено.\")\n",
    "\n",
    "        #place where child is now\n",
    "        place_element = passport_content.find('span', class_='passport__content-title', string=\"Куди звертатись:\")\n",
    "        if place_element:\n",
    "            place = place_element.find_next('span', class_='passport__content-inner').text.strip()\n",
    "        else:\n",
    "            print(\"Форому всиновлення не знайдено.\")\n",
    "\n",
    "        #get list of siblings, their names and links to their pages\n",
    "        #siblings\n",
    "        siblings_element = passport_content.find('ul', class_='passport__content-inner passport__content-inner--brother')\n",
    "        if siblings_element:\n",
    "            siblings_count = len(siblings_element.findAll('li'))            \n",
    "            siblings_list = siblings_element.findAll('a')\n",
    "            print(siblings_list[0])\n",
    "\n",
    "        else:\n",
    "            print(\"Братів не знайдено\")\n",
    "\n",
    "        # print('name:',name, '\\nage:',age, '\\nid:',child_id, '\\ngender:', gender, '\\nregion: ',region,\n",
    "        #        '\\ndisablement: ', disablement, \"\\nadoptionForm: \", adoptionForm, \"\\nplace: \", place,\n",
    "        #       '\\n--------------------------------------------------')\n",
    "    \n",
    "    else:\n",
    "        print(f\"Не вдалося отримати сторінку, статус-код: {response.status_code}\")\n",
    "\n",
    "#перевірка функціоналу\n",
    "for i in range(1):\n",
    "    # getChildInfo(data[i])\n",
    "    getChildInfo('327589')"
   ]
  },
  {
   "cell_type": "code",
   "execution_count": null,
   "metadata": {},
   "outputs": [],
   "source": []
  },
  {
   "cell_type": "code",
   "execution_count": null,
   "metadata": {},
   "outputs": [],
   "source": []
  }
 ],
 "metadata": {
  "kernelspec": {
   "display_name": "Python 3 (ipykernel)",
   "language": "python",
   "name": "python3"
  },
  "language_info": {
   "codemirror_mode": {
    "name": "ipython",
    "version": 3
   },
   "file_extension": ".py",
   "mimetype": "text/x-python",
   "name": "python",
   "nbconvert_exporter": "python",
   "pygments_lexer": "ipython3",
   "version": "3.12.8"
  }
 },
 "nbformat": 4,
 "nbformat_minor": 2
}
