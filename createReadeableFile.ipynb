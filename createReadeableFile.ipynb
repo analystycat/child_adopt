{
 "cells": [
  {
   "cell_type": "code",
   "execution_count": 14,
   "metadata": {},
   "outputs": [],
   "source": [
    "import requests\n",
    "from bs4 import BeautifulSoup"
   ]
  },
  {
   "cell_type": "code",
   "execution_count": 15,
   "metadata": {},
   "outputs": [],
   "source": [
    "with open('all_children.json', 'r', encoding='utf-8') as file:\n",
    "    data = json.load(file)\n"
   ]
  },
  {
   "cell_type": "code",
   "execution_count": 58,
   "metadata": {},
   "outputs": [
    {
     "name": "stdout",
     "output_type": "stream",
     "text": [
      "Заголовок сторінки: Діти\n",
      "name: Валентин age: 16 id: 6829 gender: чоловіча region:  Вінницька обл.\n",
      "Заголовок сторінки: Діти\n",
      "name: Ірина age: 15 id: 6831 gender: жіноча region:  Вінницька обл.\n",
      "Заголовок сторінки: Діти\n",
      "name: Артем age: 17 id: 6922 gender: чоловіча region:  Вінницька обл.\n",
      "Заголовок сторінки: Діти\n",
      "name: Захар age: 15 id: 6924 gender: чоловіча region:  Вінницька обл.\n"
     ]
    }
   ],
   "source": [
    "def getChildInfo(number):\n",
    "    # URL сторінки\n",
    "    url = f\"https://www.msp.gov.ua/children/child.php?n={number}\"\n",
    "\n",
    "    # Виконання HTTP-запиту\n",
    "    response = requests.get(url)\n",
    "\n",
    "    # Перевірка статусу відповіді\n",
    "    if response.status_code == 200:\n",
    "        # Створення об'єкта BeautifulSoup\n",
    "        soup = BeautifulSoup(response.content, 'html.parser')\n",
    "        \n",
    "        # Приклад отримання заголовка сторінки\n",
    "        title = soup.find('h1').text\n",
    "        print(\"Заголовок сторінки:\", title)\n",
    "        \n",
    "        name_age = soup.find(class_='passport__title-name').text #отримання імені та віку\n",
    "        name = name_age.split(',')[0] #отримання імені\n",
    "        age = (name_age.split(' ')[1]) #отримання віку\n",
    "        child_id = soup.find(class_='passport__title-number').text.split('№')[1] #отримання id\n",
    "\n",
    "        passport_content = soup.find('div', class_='row passport__content')\n",
    "        gender_element = passport_content.find('span', class_='passport__content-title', string=\"Стать:\")\n",
    "        if gender_element:\n",
    "            gender = gender_element.find_next('span', class_='passport__content-inner').text.strip()\n",
    "        else:\n",
    "            print(\"Стать не знайдено.\")\n",
    "        \n",
    "        region_element = passport_content.find('span', class_='passport__content-title', string=\"Область:\")\n",
    "        if region_element:\n",
    "            region = region_element.find_next('span', class_='passport__content-inner').text.strip()\n",
    "        else:\n",
    "            print(\"Область не знайдено.\")\n",
    "        \n",
    "\n",
    "        print('name:',name, 'age:',age, 'id:',child_id, 'gender:', gender, 'region: ',region)\n",
    "    \n",
    "    else:\n",
    "        print(f\"Не вдалося отримати сторінку, статус-код: {response.status_code}\")\n",
    "\n",
    "#перевірка функціоналу\n",
    "for i in range(1,5):\n",
    "    getChildInfo(data[i])"
   ]
  },
  {
   "cell_type": "code",
   "execution_count": null,
   "metadata": {},
   "outputs": [],
   "source": []
  },
  {
   "cell_type": "code",
   "execution_count": null,
   "metadata": {},
   "outputs": [],
   "source": []
  }
 ],
 "metadata": {
  "kernelspec": {
   "display_name": "Python 3 (ipykernel)",
   "language": "python",
   "name": "python3"
  },
  "language_info": {
   "codemirror_mode": {
    "name": "ipython",
    "version": 3
   },
   "file_extension": ".py",
   "mimetype": "text/x-python",
   "name": "python",
   "nbconvert_exporter": "python",
   "pygments_lexer": "ipython3",
   "version": "3.12.8"
  }
 },
 "nbformat": 4,
 "nbformat_minor": 2
}
