{
 "cells": [
  {
   "cell_type": "code",
   "execution_count": 26,
   "metadata": {},
   "outputs": [],
   "source": [
    "import pandas as pd\n",
    "\n",
    "# upload children data\n",
    "childrenList = pd.read_csv('children_info.csv', sep=';')\n",
    "\n",
    "#upload marked children\n",
    "markedChildren = pd.read_csv('marked.csv', sep=',')\n",
    "\n",
    "\n",
    "\n",
    "childrenList = childrenList.merge(markedChildren, on='id', how='left', suffixes=('', '_small'))\n",
    "\n",
    "childrenList[childrenList['status'] > 1]\n",
    "childrenList.to_csv('excel_to_import.csv', sep='|', index=False)\n"
   ]
  }
 ],
 "metadata": {
  "kernelspec": {
   "display_name": "Python 3 (ipykernel)",
   "language": "python",
   "name": "python3"
  },
  "language_info": {
   "codemirror_mode": {
    "name": "ipython",
    "version": 3
   },
   "file_extension": ".py",
   "mimetype": "text/x-python",
   "name": "python",
   "nbconvert_exporter": "python",
   "pygments_lexer": "ipython3",
   "version": "3.12.8"
  }
 },
 "nbformat": 4,
 "nbformat_minor": 2
}
