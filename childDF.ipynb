{
 "cells": [
  {
   "cell_type": "code",
   "execution_count": 1,
   "metadata": {},
   "outputs": [],
   "source": [
    "import pandas as pd\n",
    "\n",
    "# upload children data\n",
    "childrenList = pd.read_csv('children_info.csv', sep=';')\n",
    "\n",
    "#upload marked children\n",
    "markedChildren = pd.read_csv('marked.csv', sep=',')\n",
    "\n",
    "\n",
    "\n",
    "childrenList = childrenList.merge(markedChildren, on='id', how='left', suffixes=('', '_small'))\n",
    "\n",
    "childrenList[childrenList['status'] > 1]\n",
    "childrenList.to_csv('excel_to_import.csv', sep='|', index=False)\n"
   ]
  },
  {
   "cell_type": "code",
   "execution_count": 2,
   "metadata": {},
   "outputs": [],
   "source": [
    "df = pd.read_csv('excel_to_import.csv', sep='|')\n",
    "\n",
    "# налаштувати фільтр\n",
    "# статус 1 для тих хто вже перевірений і відсіяний\n",
    "filtered_df = (df['status'] != 1) & (df['age'] >= 2) & (df['age']<=11) & (df['isablement'] == 'ЛОЖЬ') & (df['siblings_count'] <=1)\n",
    "\n",
    "df = df[filtered_df]\n",
    "df[\"link\"] = f\"http://www.msp.gov.ua/children/child.php?n=\" + df[\"id\"].astype(str)\n",
    "# print(df.head())\n",
    "# https://www.msp.gov.ua/children/child.php?n=674562\n",
    "df.to_csv('girls_children_sib_1_age_3_to_11.csv', index=False)"
   ]
  },
  {
   "cell_type": "code",
   "execution_count": null,
   "metadata": {},
   "outputs": [],
   "source": []
  }
 ],
 "metadata": {
  "kernelspec": {
   "display_name": "base",
   "language": "python",
   "name": "python3"
  },
  "language_info": {
   "codemirror_mode": {
    "name": "ipython",
    "version": 3
   },
   "file_extension": ".py",
   "mimetype": "text/x-python",
   "name": "python",
   "nbconvert_exporter": "python",
   "pygments_lexer": "ipython3",
   "version": "3.11.7"
  }
 },
 "nbformat": 4,
 "nbformat_minor": 2
}
