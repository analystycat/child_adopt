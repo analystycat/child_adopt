{
 "cells": [
  {
   "cell_type": "markdown",
   "id": "c3d8cf46-49f6-4a63-bc62-65acb3a04e18",
   "metadata": {},
   "source": [
    "Перебрати всіх дітей і порівняти з попереднім результатом, щоб знайти нових"
   ]
  },
  {
   "cell_type": "code",
   "execution_count": 2,
   "id": "8de2c592-e76a-4ec7-9c7c-b33a646b0ca6",
   "metadata": {},
   "outputs": [
    {
     "name": "stdout",
     "output_type": "stream",
     "text": [
      "Requirement already satisfied: tqdm in c:\\data_science\\child_adoption\\env\\lib\\site-packages (4.67.1)\n",
      "Requirement already satisfied: colorama in c:\\data_science\\child_adoption\\env\\lib\\site-packages (from tqdm) (0.4.6)\n",
      "Note: you may need to restart the kernel to use updated packages.\n"
     ]
    }
   ],
   "source": [
    "pip install tqdm"
   ]
  },
  {
   "cell_type": "code",
   "execution_count": 211,
   "id": "3cc03c6b-3971-476d-a392-00e3203bb258",
   "metadata": {},
   "outputs": [],
   "source": [
    "import pandas as pd\n",
    "import numpy as np\n",
    "import requests\n",
    "from bs4 import BeautifulSoup\n",
    "import re\n",
    "import json\n",
    "import tqdm\n",
    "import time\n"
   ]
  },
  {
   "cell_type": "code",
   "execution_count": 212,
   "id": "12a78b90-db2f-4abe-b533-a07b516ee618",
   "metadata": {},
   "outputs": [],
   "source": [
    "'''\n",
    "    find last li in pagination. Neet to known the last page in childlist\n",
    "'''\n",
    "url = \"https://www.msp.gov.ua/children/search.php?form=*&male=*&age_from=*&age_to=*&region=*&brothers=*&needs=*&page=1\"\n",
    "response = requests.get(url)\n",
    "if response.status_code == 200:\n",
    "    soup = BeautifulSoup(response.text, \"html.parser\")\n",
    "    paragraphs = soup.find_all(\"ul\", class_=\"pagination\") #find pagination block\n",
    "    for i, paragraph in enumerate(paragraphs, start=1):\n",
    "        li_elements = paragraph.find_all(\"li\") #find all li in pagination\n",
    "        \n",
    "        if li_elements:\n",
    "            last_li = li_elements[-1] #find al li in pagination block\n",
    "            last_a = last_li.text.strip() #get text last li\n",
    "            last_page = int(re.sub(r'\\D','',last_a)) #leve only page number    \n",
    "else:\n",
    "    print(f\"ERROR {response.status_code}\")\n"
   ]
  },
  {
   "cell_type": "code",
   "execution_count": null,
   "id": "d367918a-b2c7-49d8-af03-04e2bac1bac3",
   "metadata": {},
   "outputs": [],
   "source": [
    "'''\n",
    "    This script is time-consuming. Therefore, it should only be run when you want to update data for all children.\n",
    "    \n",
    "    get array of all children on page\n",
    "'''\n",
    "all_children = []\n",
    "for i in tqdm.tqdm(range(last_page)): #(last_page):\n",
    "    url = \"https://www.msp.gov.ua/children/search.php?form=*&male=*&age_from=*&age_to=*&region=*&brothers=*&needs=*&page=\"+str(i+1)\n",
    "    response = requests.get(url)\n",
    "    if response.status_code == 200:\n",
    "        soup = BeautifulSoup(response.text, \"html.parser\")\n",
    "        child_block = soup.find_all(\"div\",class_=\"child__item\")\n",
    "        for i, child in enumerate(child_block, start=1):\n",
    "            link = child.find(\"a\")[\"href\"]\n",
    "            id_child = re.search(r'n=(\\d+)', link)\n",
    "            if id_child:\n",
    "                id_child = id_child.group(1)\n",
    "            else:\n",
    "                print(f\"В картці дитини на сторінці {url}, не знайдено id code\")\n",
    "            #print(id_child,\"\\n-------------------\")\n",
    "            all_children.append(id_child)\n",
    "    else:\n",
    "        print(f\"ERROR {response.status_code}\")\n",
    "\n",
    "json_output = json.dumps(all_children, indent=4)\n",
    "#print(json_output)\n",
    "\n",
    "with open('all_children.json', 'r') as json_file:\n",
    "    data = json.load(json_file)\n",
    "\n",
    "differences = list(set(all_children) ^ set(data))\n",
    "print(differences)\n",
    "\n",
    "with open('all_children.json', 'w') as json_file:\n",
    "    json_file.write(json_output)  # Записуємо JSON в файл\n",
    "\n",
    "if len(differences)>0:\n",
    "    with open('differences.json', 'w') as json_file:\n",
    "        json_file.write(json.dumps(differences, indent=4))  # Записуємо JSON в файл\n"
   ]
  },
  {
   "cell_type": "code",
   "execution_count": null,
   "id": "2fc0a07d-51cc-44e6-9ed7-61b5a753334b",
   "metadata": {},
   "outputs": [],
   "source": []
  },
  {
   "cell_type": "code",
   "execution_count": null,
   "id": "b7347438-5a3a-4368-a761-f51f8716249b",
   "metadata": {},
   "outputs": [],
   "source": []
  }
 ],
 "metadata": {
  "kernelspec": {
   "display_name": "Python 3 (ipykernel)",
   "language": "python",
   "name": "python3"
  },
  "language_info": {
   "codemirror_mode": {
    "name": "ipython",
    "version": 3
   },
   "file_extension": ".py",
   "mimetype": "text/x-python",
   "name": "python",
   "nbconvert_exporter": "python",
   "pygments_lexer": "ipython3",
   "version": "3.12.8"
  }
 },
 "nbformat": 4,
 "nbformat_minor": 5
}
